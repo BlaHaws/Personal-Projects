{
 "cells": [
  {
   "cell_type": "code",
   "execution_count": null,
   "id": "beeff407",
   "metadata": {},
   "outputs": [],
   "source": [
    "import pandas as pd\n",
    "import numpy as np\n",
    "from keras.models import Sequential\n",
    "from keras.layers import LSTM, Dense, Dropout\n",
    "from matplotlib import pyplot as plt\n",
    "from sklearn.preprocessing import StandardScaler\n",
    "import seaborn as sns"
   ]
  },
  {
   "cell_type": "code",
   "execution_count": null,
   "id": "d6202722",
   "metadata": {},
   "outputs": [],
   "source": [
    "df = pd.read_csv('https://raw.githubusercontent.com/BlaHaws/Personal-Projects/main/TimeSeries-Projects/raw_data/silver_price.csv')\n",
    "df2 = pd.read_csv('https://raw.githubusercontent.com/BlaHaws/Personal-Projects/main/TimeSeries-Projects/raw_data/gold_price.csv')"
   ]
  },
  {
   "cell_type": "code",
   "execution_count": 12,
   "id": "ff788ee8",
   "metadata": {},
   "outputs": [],
   "source": [
    "df3 = df.join(df2.set_index('date'), on='date', lsuffix='_silver', rsuffix='_gold')"
   ]
  },
  {
   "cell_type": "code",
   "execution_count": 13,
   "id": "fef3617b",
   "metadata": {},
   "outputs": [
    {
     "data": {
      "text/html": [
       "<div>\n",
       "<style scoped>\n",
       "    .dataframe tbody tr th:only-of-type {\n",
       "        vertical-align: middle;\n",
       "    }\n",
       "\n",
       "    .dataframe tbody tr th {\n",
       "        vertical-align: top;\n",
       "    }\n",
       "\n",
       "    .dataframe thead th {\n",
       "        text-align: right;\n",
       "    }\n",
       "</style>\n",
       "<table border=\"1\" class=\"dataframe\">\n",
       "  <thead>\n",
       "    <tr style=\"text-align: right;\">\n",
       "      <th></th>\n",
       "      <th>date</th>\n",
       "      <th>price_silver</th>\n",
       "      <th>price_gold</th>\n",
       "    </tr>\n",
       "  </thead>\n",
       "  <tbody>\n",
       "    <tr>\n",
       "      <th>0</th>\n",
       "      <td>1968-01-02</td>\n",
       "      <td>2.173</td>\n",
       "      <td>NaN</td>\n",
       "    </tr>\n",
       "    <tr>\n",
       "      <th>1</th>\n",
       "      <td>1968-01-03</td>\n",
       "      <td>2.225</td>\n",
       "      <td>NaN</td>\n",
       "    </tr>\n",
       "    <tr>\n",
       "      <th>2</th>\n",
       "      <td>1968-01-04</td>\n",
       "      <td>2.171</td>\n",
       "      <td>NaN</td>\n",
       "    </tr>\n",
       "    <tr>\n",
       "      <th>3</th>\n",
       "      <td>1968-01-05</td>\n",
       "      <td>2.157</td>\n",
       "      <td>NaN</td>\n",
       "    </tr>\n",
       "    <tr>\n",
       "      <th>4</th>\n",
       "      <td>1968-01-08</td>\n",
       "      <td>2.163</td>\n",
       "      <td>NaN</td>\n",
       "    </tr>\n",
       "    <tr>\n",
       "      <th>...</th>\n",
       "      <td>...</td>\n",
       "      <td>...</td>\n",
       "      <td>...</td>\n",
       "    </tr>\n",
       "    <tr>\n",
       "      <th>13470</th>\n",
       "      <td>2021-03-30</td>\n",
       "      <td>24.340</td>\n",
       "      <td>1683.95</td>\n",
       "    </tr>\n",
       "    <tr>\n",
       "      <th>13471</th>\n",
       "      <td>2021-03-31</td>\n",
       "      <td>24.000</td>\n",
       "      <td>1691.05</td>\n",
       "    </tr>\n",
       "    <tr>\n",
       "      <th>13472</th>\n",
       "      <td>2021-04-01</td>\n",
       "      <td>24.315</td>\n",
       "      <td>1726.05</td>\n",
       "    </tr>\n",
       "    <tr>\n",
       "      <th>13473</th>\n",
       "      <td>2021-04-06</td>\n",
       "      <td>25.040</td>\n",
       "      <td>1744.65</td>\n",
       "    </tr>\n",
       "    <tr>\n",
       "      <th>13474</th>\n",
       "      <td>2021-04-07</td>\n",
       "      <td>24.985</td>\n",
       "      <td>1738.05</td>\n",
       "    </tr>\n",
       "  </tbody>\n",
       "</table>\n",
       "<p>13475 rows × 3 columns</p>\n",
       "</div>"
      ],
      "text/plain": [
       "             date  price_silver  price_gold\n",
       "0      1968-01-02         2.173         NaN\n",
       "1      1968-01-03         2.225         NaN\n",
       "2      1968-01-04         2.171         NaN\n",
       "3      1968-01-05         2.157         NaN\n",
       "4      1968-01-08         2.163         NaN\n",
       "...           ...           ...         ...\n",
       "13470  2021-03-30        24.340     1683.95\n",
       "13471  2021-03-31        24.000     1691.05\n",
       "13472  2021-04-01        24.315     1726.05\n",
       "13473  2021-04-06        25.040     1744.65\n",
       "13474  2021-04-07        24.985     1738.05\n",
       "\n",
       "[13475 rows x 3 columns]"
      ]
     },
     "execution_count": 13,
     "metadata": {},
     "output_type": "execute_result"
    }
   ],
   "source": [
    "df3"
   ]
  }
 ],
 "metadata": {
  "kernelspec": {
   "display_name": "Python 3 (ipykernel)",
   "language": "python",
   "name": "python3"
  },
  "language_info": {
   "codemirror_mode": {
    "name": "ipython",
    "version": 3
   },
   "file_extension": ".py",
   "mimetype": "text/x-python",
   "name": "python",
   "nbconvert_exporter": "python",
   "pygments_lexer": "ipython3",
   "version": "3.9.5"
  }
 },
 "nbformat": 4,
 "nbformat_minor": 5
}
